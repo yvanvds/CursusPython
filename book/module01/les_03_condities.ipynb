{
 "cells": [
  {
   "cell_type": "markdown",
   "id": "f81cbebc",
   "metadata": {},
   "source": [
    "# Condities en Herhalingen\n",
    "\n",
    ":::{admonition}Leerdoelen\n",
    "Na deze les kan je:\n",
    "- Beslissingen programmeren met if, elif, else.\n",
    "- Herhalingen implementeren met for en while.\n",
    "- Systematisch testen en debuggen door verschillende testgevallen uit te proberen.\n",
    "- Complexere probleemstellingen vertalen naar werkende Python-code.\n",
    ":::"
   ]
  },
  {
   "cell_type": "markdown",
   "id": "9a00d904",
   "metadata": {},
   "source": [
    "\n",
    "## Deel 1: Nabespreking huiswerk\n",
    "\n",
    "### Probleem A – Deling van twee getallen\n",
    "- Testgevallen: deler = 0, negatieve getallen, kommagetallen."
   ]
  },
  {
   "cell_type": "code",
   "execution_count": null,
   "id": "407860e4",
   "metadata": {},
   "outputs": [],
   "source": [
    "a = float(input(\"Geef het eerste getal: \"))\n",
    "b = float(input(\"Geef het tweede getal: \"))\n",
    "resultaat = a / b\n",
    "print(\"Uitkomst:\", resultaat)"
   ]
  },
  {
   "cell_type": "markdown",
   "id": "cbb34ba4",
   "metadata": {},
   "source": [
    "### Probleem B – Volume van een bol\n",
    "- Formule: $V=\\frac{4}{3} \\times π \\times r^3$\n",
    "- Grensgevallen: r = 0, negatieve r (weigeren)."
   ]
  },
  {
   "cell_type": "code",
   "execution_count": null,
   "id": "5393b8a6",
   "metadata": {},
   "outputs": [],
   "source": [
    "import math\n",
    "r = float(input(\"Straal r: \"))\n",
    "V = (4/3) * math.pi * r**3\n",
    "print(\"Volume:\", V)"
   ]
  },
  {
   "cell_type": "markdown",
   "id": "3c5d6b49",
   "metadata": {},
   "source": [
    "### Probleem C – Minimale munten (2, 1, 0.5, 0.1 €)\n",
    "Vermijd zwevende-kommafouten: werk in centen."
   ]
  },
  {
   "cell_type": "code",
   "execution_count": null,
   "id": "d44a9080",
   "metadata": {},
   "outputs": [],
   "source": [
    "bedrag = float(input(\"Bedrag in euro: \"))\n",
    "cent = bedrag * 100\n",
    "\n",
    "euro2 = int(cent // 200)\n",
    "euro1 = int((cent % 200) // 100)\n",
    "cent50 = int((cent % 100) // 50)\n",
    "cent1 = int((cent % 50) // 1)\n",
    "\n",
    "print(\"Munten van 2 euro:\", euro2)\n",
    "print(\"Munten van 1 euro:\", euro1)\n",
    "print(\"Munten van 50 cent:\", cent50)\n",
    "print(\"Munten van 1 cent:\", cent1)"
   ]
  },
  {
   "cell_type": "markdown",
   "id": "894e4deb",
   "metadata": {},
   "source": [
    "## Deel 2: Condities (if, elif, else)\n",
    "Met een conditie kan je een beslissing nemen in je programma. Afhankelijk van een voorwaarde (True of False) wordt bepaalde code wel of niet uitgevoerd.\n",
    "\n",
    ":::{admonition} Belangrijke aandachtspunten bij condities\n",
    "- *Dubbele punt (:)*\n",
    "Elke regel met if, elif of else eindigt op een dubbele punt.\n",
    "- *Inspringing*\n",
    "Alle code die bij de conditie hoort, spring je 1 tab of 4 spaties in.\n",
    ":::"
   ]
  },
  {
   "cell_type": "code",
   "execution_count": null,
   "id": "2fae5d69",
   "metadata": {},
   "outputs": [],
   "source": [
    "# Fout voorbeeld:\n",
    "if x > 0:\n",
    "print(\"Positief\")    # fout: niet ingesprongen\n",
    "# Goed voorbeeld:\n",
    "if x > 0:\n",
    "    print(\"Positief\")"
   ]
  },
  {
   "cell_type": "markdown",
   "id": "e96138af",
   "metadata": {},
   "source": [
    ":::{topic}\n",
    "- `elif`\n",
    "Gebruik elif (\"else if\") als je meerdere mogelijkheden wil testen.\n",
    "- `else` \n",
    "Gebruik else voor de situatie die overblijft als geen enkele eerdere conditie waar was.\n",
    ":::\n",
    "\n",
    "### Voorbeeld 1: even of oneven"
   ]
  },
  {
   "cell_type": "code",
   "execution_count": null,
   "id": "160f3e3a",
   "metadata": {},
   "outputs": [],
   "source": [
    "getal = int(input(\"Geef een geheel getal: \"))\n",
    "\n",
    "if getal % 2 == 0:\n",
    "    print(\"Het getal is even\")\n",
    "else:\n",
    "    print(\"Het getal is oneven\")"
   ]
  },
  {
   "cell_type": "markdown",
   "id": "ebf221ad",
   "metadata": {},
   "source": [
    "### Voorbeeld 2: positief, negatief of nul"
   ]
  },
  {
   "cell_type": "code",
   "execution_count": null,
   "id": "6a3ba89c",
   "metadata": {},
   "outputs": [],
   "source": [
    "x = int(input(\"Geef een getal: \"))\n",
    "\n",
    "if x > 0:\n",
    "    print(\"Positief\")\n",
    "elif x < 0:\n",
    "    print(\"Negatief\")\n",
    "else:\n",
    "    print(\"Het getal is nul\")"
   ]
  },
  {
   "cell_type": "markdown",
   "id": "84bc3863",
   "metadata": {},
   "source": [
    "### Voorbeeld 3: grootste van drie getallen"
   ]
  },
  {
   "cell_type": "code",
   "execution_count": null,
   "id": "4a47d503",
   "metadata": {},
   "outputs": [],
   "source": [
    "a = int(input(\"Eerste getal: \"))\n",
    "b = int(input(\"Tweede getal: \"))\n",
    "c = int(input(\"Derde getal: \"))\n",
    "grootste = a\n",
    "\n",
    "if b > grootste:\n",
    "    grootste = b\n",
    "\n",
    "if c > grootste:\n",
    "    grootste = c\n",
    "\n",
    "print(\"Het grootste getal is:\", grootste)"
   ]
  },
  {
   "cell_type": "markdown",
   "id": "31eb8bd2",
   "metadata": {},
   "source": [
    ":::{Caution}\n",
    "We gebruiken hier drie aparte if-regels, zodat het programma stap voor stap de grootste waarde kan bijhouden.\n",
    ":::\n",
    "\n",
    ":::{admonition} Samenvatting\n",
    ":class: todo\n",
    "- `if` test een voorwaarde\n",
    "- `elif` test een extra voorwaarde als de vorige niet waar was\n",
    "- `else` vangt alles op dat niet door de vorige voorwaarden gedekt werd\n",
    "- **Vergeet nooit dubbele punt en inspringing!**\n",
    ":::"
   ]
  },
  {
   "cell_type": "markdown",
   "id": "b40b00cb",
   "metadata": {},
   "source": [
    "\n",
    "## Deel 3: Oefeningen Condities\n",
    "\n",
    "1. **Deelbaarheid** Vraag een getal; meld of het deelbaar is door 2, door 3, door beide of door geen van beide.\n",
    "2. **Grootste getal** Vraag om drie getallen en toon het grootste getal.\n",
    "3. **Mini-rekenmachine (bonus)** Vraag twee getallen en een bewerking (+ - * /). Behandel deling door 0."
   ]
  },
  {
   "cell_type": "markdown",
   "id": "bd347bea",
   "metadata": {},
   "source": [
    "## Deel 4: Herhalingen (for en while)\n",
    "Wanneer je vaak dezelfde soort opdrachten wil uitvoeren, gebruik je een lus.\n",
    "In Python bestaan er twee hoofdvormen:\n",
    "\n",
    "- for-lussen: je weet vooraf hoe vaak je wil herhalen.\n",
    "- while-lussen: je herhaalt zolang een voorwaarde waar is.\n",
    "\n",
    "### Belangrijke aandachtspunten bij lussen\n",
    "\n",
    "#### Dubbele punt (:)\n",
    "Elke lusregel eindigt met een dubbele punt."
   ]
  },
  {
   "cell_type": "code",
   "execution_count": null,
   "id": "bc982fb8",
   "metadata": {},
   "outputs": [],
   "source": [
    "for i in range(5):\n",
    "    print(i)"
   ]
  },
  {
   "cell_type": "markdown",
   "id": "b5958d66",
   "metadata": {},
   "source": [
    "\n",
    "#### Inspringing (tabs of spaties)\n",
    "De code die bij de lus hoort moet inspringen.\n",
    "Python gebruikt dit om te weten welke instructies in de lus horen.\n",
    "    \n",
    "Een fout voorbeeld:"
   ]
  },
  {
   "cell_type": "code",
   "execution_count": null,
   "id": "e10bd1e8",
   "metadata": {},
   "outputs": [],
   "source": [
    "for i in range(3):\n",
    "print(i)   # fout, want niet ingesprongen"
   ]
  },
  {
   "cell_type": "markdown",
   "id": "6035ee65",
   "metadata": {},
   "source": [
    "Correct voorbeeld:"
   ]
  },
  {
   "cell_type": "code",
   "execution_count": null,
   "id": "ad98d603",
   "metadata": {},
   "outputs": [],
   "source": [
    "for i in range(3):\n",
    "    print(i)"
   ]
  },
  {
   "cell_type": "markdown",
   "id": "3e3d6b0e",
   "metadata": {},
   "source": [
    "#### range()\n",
    "- `range(stop)` telt van 0 tot stop-1\n",
    "- `range(start, stop)` telt vanaf start tot stop-1\n",
    "- `range(start, stop, stap)` telt met een sprong\n",
    "        \n",
    "Voorbeeld:"
   ]
  },
  {
   "cell_type": "code",
   "execution_count": null,
   "id": "802f7e91",
   "metadata": {},
   "outputs": [],
   "source": [
    "for i in range(2, 11, 2):\n",
    "    print(i)   # geeft 2, 4, 6, 8, 10"
   ]
  },
  {
   "cell_type": "markdown",
   "id": "6affd6d4",
   "metadata": {},
   "source": [
    "### Voorbeeld 1: Som van 1 tot N (for-lus)"
   ]
  },
  {
   "cell_type": "code",
   "execution_count": null,
   "id": "4f596c59",
   "metadata": {},
   "outputs": [],
   "source": [
    "N = int(input(\"Geef een getal: \"))\n",
    "som = 0\n",
    "for i in range(1, N+1):   # herhaal voor i = 1 tot en met N\n",
    "    som += i              # zelfde als: som = som + i\n",
    "print(\"De som van de eerste\", N, \"getallen is:\", som)"
   ]
  },
  {
   "cell_type": "markdown",
   "id": "06f31ee1",
   "metadata": {},
   "source": [
    "### Voorbeeld 2: Tafel van vermenigvuldiging (for-lus)"
   ]
  },
  {
   "cell_type": "code",
   "execution_count": null,
   "id": "c6713009",
   "metadata": {},
   "outputs": [],
   "source": [
    "tafel = int(input(\"Welke tafel wil je zien? \"))\n",
    "for i in range(1, 11):\n",
    "    print(tafel, \"x\", i, \"=\", tafel * i)"
   ]
  },
  {
   "cell_type": "markdown",
   "id": "2296cef2",
   "metadata": {},
   "source": [
    "\n",
    "### Voorbeeld 3: While-lus – wachtwoord\n",
    "Gebruik een while als je niet weet hoe vaak je moet herhalen."
   ]
  },
  {
   "cell_type": "code",
   "execution_count": null,
   "id": "73060337",
   "metadata": {},
   "outputs": [],
   "source": [
    "wachtwoord = \"python123\"\n",
    "invoer = input(\"Geef het wachtwoord: \")\n",
    "while invoer != wachtwoord:\n",
    "    print(\"Fout! Probeer opnieuw.\")\n",
    "    invoer = input(\"Geef het wachtwoord: \")\n",
    "print(\"Toegang toegestaan!\")"
   ]
  },
  {
   "cell_type": "markdown",
   "id": "1a758c5a",
   "metadata": {},
   "source": [
    "Bij een while-lus moet er iets veranderen in de lus (hier: de invoer), anders blijf je oneindig vastzitten.\n",
    "\n",
    "### Voorbeeld 4: Tel het aantal cijfers in een getal (while-lus)"
   ]
  },
  {
   "cell_type": "code",
   "execution_count": null,
   "id": "56793997",
   "metadata": {},
   "outputs": [],
   "source": [
    "getal = int(input(\"Geef een geheel getal: \"))\n",
    "aantal = 0\n",
    "while getal > 0:\n",
    "    aantal += 1\n",
    "    getal //= 10   # gehele deling, laatste cijfer valt weg\n",
    "print(\"Aantal cijfers:\", aantal)"
   ]
  },
  {
   "cell_type": "markdown",
   "id": "cbf811b4",
   "metadata": {},
   "source": [
    "\n",
    ":::{admonition} Samenvatting:\n",
    ":class: seealso\n",
    "- `for` = handig als je exact weet hoeveel keer je wil herhalen.\n",
    "- `while` = handig als je herhaalt tot een bepaalde voorwaarde stopt.\n",
    "- Vergeet nooit dubbele punt en inspringing.\n",
    "- Bij `while`: zorg dat de conditie ooit false wordt, anders krijg je een oneindige lus.\n",
    ":::"
   ]
  },
  {
   "cell_type": "markdown",
   "id": "f5cac69d",
   "metadata": {},
   "source": [
    "## Deel 5: Oefeningen op Herhaling\n",
    "1. **Herhaling**: Vraag om een zin en vraag daarna hoeveel keer je die op het scherm wil zien.\n",
    "2. **Aftellen**: Vraag een positief getal en tel terug naar nul. Toon de getallen op het scherm.\n",
    "3. **Cijfers tellen**: vraag een (niet-negatief) geheel getal en tel het aantal cijfers (while).\n",
    "4. **Raad-het-getal (bonus)**: kies een getal [1..100]; geef \"te hoog/te laag\"; tel pogingen.\n",
    "\n",
    ":::{tip}\n",
    "`import random` en `random.randint(1, 100)`.\n",
    ":::"
   ]
  },
  {
   "cell_type": "markdown",
   "id": "5011c0b8",
   "metadata": {},
   "source": [
    "\n",
    "### Deel 6: Bespreking & Debuggen\n",
    "- **Oneindige while**: zorg voor een variabele die wijzigt en een realistische stopconditie.\n",
    "- **Teststrategie**: normale, grens- en foute invoer (bv. 0, negatieve waarden, grote waarden)."
   ]
  },
  {
   "cell_type": "markdown",
   "id": "7fe464e4",
   "metadata": {},
   "source": [
    "### Deel 7: Huiswerk (Evaluatietaak)\n",
    "Schrijf een programma dat getallen blijft inlezen totdat de je \"stop\" typt.\n",
    "\n",
    "Daarna moet het programma:\n",
    "- het kleinste en grootste getal tonen,\n",
    "- het gemiddelde berekenen,\n",
    "- het aantal ingevoerde getallen geven,\n",
    "- een mededeling tonen als er geen getallen zijn ingevoerd,\n",
    "- geen technieken gebruiken die we niet in de les bespraken."
   ]
  }
 ],
 "metadata": {
  "kernelspec": {
   "display_name": ".venv",
   "language": "python",
   "name": "python3"
  },
  "language_info": {
   "name": "python",
   "version": "3.12.1"
  }
 },
 "nbformat": 4,
 "nbformat_minor": 5
}
