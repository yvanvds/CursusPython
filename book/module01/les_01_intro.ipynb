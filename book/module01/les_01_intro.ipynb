{
 "cells": [
  {
   "cell_type": "markdown",
   "id": "d7a24b08",
   "metadata": {},
   "source": [
    "# Introductie en Probleemoplossend Denken \n",
    "\n",
    ":::{admonition} Lesdoelen \n",
    "\n",
    "Na deze les kan je: \n",
    "- Python installeren en configureren in Visual Studio Code (VS Code). \n",
    "- Uitleggen wat algoritmisch denken is en hoe een probleem systematisch wordt aangepakt. \n",
    "- Een eenvoudig algoritme schrijven in pseudocode én omzetten naar Python. \n",
    ":::"
   ]
  },
  {
   "cell_type": "markdown",
   "id": "ce6c2cef",
   "metadata": {},
   "source": [
    "## Deel 1: Introductie tot Programmeren \n",
    " \n",
    "### Wat is programmeren? \n",
    "Programmeren is het schrijven van instructies (programma’s) die een computer vertellen hoe een bepaald probleem opgelost moet worden. \n",
    " \n",
    "### Waarom Python? \n",
    "- Python is eenvoudig te leren, maar ook krachtig genoeg voor wetenschappelijke berekeningen en data-analyse. \n",
    "- Python wordt veel gebruikt in wetenschap en techniek. \n",
    "- Veel online documentatie en ondersteuning beschikbaar. "
   ]
  },
  {
   "cell_type": "markdown",
   "id": "993eb3da",
   "metadata": {},
   "source": [
    "## Deel 2: Installatie Python en VS Code \n",
    "Je gaat nu Python installeren en je ontwikkelomgeving (Visual Studio Code) klaarmaken. \n",
    " \n",
    "### Stap 1: Installeren van Python \n",
    "- Ga naar  https://www.python.org/downloads/ \n",
    "- Download de laatste versie (bv. Python 3.12.x). \n",
    "- Start het installatieprogramma. \n",
    "- Belangrijk: vink tijdens installatie zeker \"Add Python to PATH\" aan! \n",
    "- Test je installatie: \n",
    "- Open het opdrachtprompt (Windows: druk Win-toets en typ cmd). \n",
    "- Typ het commando python --version. Je moet je Python-versie zien. \n",
    " \n",
    "### Stap 2: Installeren van Visual Studio Code \n",
    "- Ga naar  https://code.visualstudio.com/ \n",
    "- Download VS Code en volg de installatiestappen. \n",
    "- Open VS Code. \n",
    "- Installeer meteen de extensie voor Python: \n",
    "- Klik links op het extensie-icoon (blokjes). \n",
    "- Zoek naar \"Python\" (van Microsoft) en klik \"Install\". \n",
    " \n",
    "### Stap 3: Je eerste Python-programma \n",
    "- Maak in VS Code een nieuwe map voor deze module (bv. informatica_module1). \n",
    "- Maak in deze map een nieuw bestand: hello.py \n",
    "- Schrijf daarin volgende code: "
   ]
  },
  {
   "cell_type": "code",
   "execution_count": null,
   "id": "09f487dd",
   "metadata": {},
   "outputs": [],
   "source": [
    "print(\"Hello World!\") "
   ]
  },
  {
   "cell_type": "markdown",
   "id": "581a8ee2",
   "metadata": {},
   "source": [
    "- Sla het bestand op. \n",
    "- Voer je programma uit (druk op F5 of rechtsboven op >). \n",
    "     \n",
    "Als alles goed is, verschijnt in het terminalvenster onderaan: \n",
    "\n",
    "`Hello World!` "
   ]
  },
  {
   "cell_type": "markdown",
   "id": "59ac6263",
   "metadata": {},
   "source": [
    " \n",
    "## Deel 3: Probleemanalyse en Algoritmisch Denken \n",
    " \n",
    "Programmeren doe je in 4 stappen: \n",
    "```{list-table} 4 stappen\n",
    ":header-rows: 1\n",
    "\n",
    "* - Stap\n",
    "  - Omschrijving\n",
    "* - 0\n",
    "  - Analyseer het probleem \n",
    "* - 1\n",
    "  - Schrijf het algoritme \n",
    "* - 2\n",
    "  - Vertaal het algoritme naar programmeercode \n",
    "* - 3\n",
    "  - Test en verbeter (debug) je code  \n",
    "```\n",
    " \n",
    "### Voorbeeldprobleem: Bereken het gemiddelde van twee getallen. \n",
    "#### Stap 1 - Analyse: \n",
    "- Wat heb je nodig (invoer)? \n",
    "- Wat wil je (uitvoer)? \n",
    "- Hoe bereken je dit? \n",
    " \n",
    "#### Stap 2 - Algoritme (pseudocode): \n",
    "- vraag getal1 \n",
    "- vraag getal2 \n",
    "- bereken gemiddelde = `(getal1 + getal2) / 2` \n",
    "- toon gemiddelde \n",
    " \n",
    "#### Stap 3 - Python-code: "
   ]
  },
  {
   "cell_type": "code",
   "execution_count": null,
   "id": "2d952e59",
   "metadata": {},
   "outputs": [],
   "source": [
    "getal1 = float(input(\"Geef eerste getal: \")) \n",
    "getal2 = float(input(\"Geef tweede getal: \")) \n",
    "gemiddelde = (getal1 + getal2) / 2 \n",
    "print(\"Het gemiddelde is:\", gemiddelde) "
   ]
  },
  {
   "cell_type": "markdown",
   "id": "43318a8c",
   "metadata": {},
   "source": [
    " \n",
    "## Deel 4: Oefeningen Probleemoplossend Denken \n",
    " \n",
    "Schrijf voor onderstaande problemen telkens een algoritme in pseudocode. Zet daarna je pseudocode om naar Python-code en test deze code. \n",
    " \n",
    "### Probleem A: \n",
    "- Bereken de omtrek en oppervlakte van een rechthoek. \n",
    "- Input: lengte en breedte \n",
    "- Output: oppervlakte en omtrek \n",
    " \n",
    "### Probleem B: \n",
    "- Bereken het gemiddelde van drie ingevoerde getallen. \n",
    "- Input: drie getallen \n",
    "- Output: gemiddelde \n",
    "\n",
    ":::{tip} \n",
    "Gebruik je eerder gemaakte voorbeeld als leidraad. \n",
    ":::"
   ]
  },
  {
   "cell_type": "markdown",
   "id": "2cbfa222",
   "metadata": {},
   "source": [
    " \n",
    "## Deel 5: Huiswerk Oefeningen (te maken tegen volgende les) \n",
    " \n",
    "Maak voor volgende problemen telkens een pseudocode en Python-programma. \n",
    " \n",
    "### Probleem A: \n",
    "- Vraag aan de gebruiker een leeftijd in jaren. \n",
    "- Bereken de leeftijd in dagen (neem 1 jaar = 365 dagen). \n",
    "- Toon het resultaat duidelijk op het scherm. \n",
    " \n",
    "### Probleem B: \n",
    "- Bereken de oppervlakte van een cirkel met een straal die de gebruiker invoert. \n",
    "- Gebruik het getal π (pi) uit Python: import math en dan gebruik je math.pi. \n",
    "- Toon het resultaat duidelijk op het scherm. \n",
    " \n",
    " \n",
    ":::{warning} \n",
    "De import instructie om math.pi te gebruiken werd nog niet uitgelegd. Probeer zelf uit te zoeken hoe dat werkt. Lukt het na 10 minuten nog altijd niet? Gebruik dan gewoon 3.14.  \n",
    ":::"
   ]
  }
 ],
 "metadata": {
  "kernelspec": {
   "display_name": ".venv",
   "language": "python",
   "name": "python3"
  },
  "language_info": {
   "name": "python",
   "version": "3.12.1"
  }
 },
 "nbformat": 4,
 "nbformat_minor": 5
}
