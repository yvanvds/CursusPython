{
 "cells": [
  {
   "cell_type": "markdown",
   "id": "6c24d640",
   "metadata": {},
   "source": [
    "# Variabelen, gegevenstypes en berekeningen\n",
    "\n",
    ":::{admonition} Leerdoelen \n",
    "Na deze les kan je: \n",
    "- Uitleggen wat variabelen en gegevenstypes (int, float, str) zijn. \n",
    "- Berekeningen uitvoeren en variabelen gebruiken in Python. \n",
    "- Gegevenstypes omzetten (casting). \n",
    "- Eenvoudige invoer (input) en uitvoer (print) toepassen. \n",
    "- De import-instructie gebruiken om extra functionaliteiten toe te voegen. \n",
    "::: "
   ]
  },
  {
   "cell_type": "markdown",
   "id": "ddd33132",
   "metadata": {},
   "source": [
    "## Deel 1: Nabespreking huiswerk \n",
    " \n",
    "### Probleem A "
   ]
  },
  {
   "cell_type": "code",
   "execution_count": 1,
   "id": "6b387c13",
   "metadata": {},
   "outputs": [
    {
     "ename": "ValueError",
     "evalue": "invalid literal for int() with base 10: ''",
     "output_type": "error",
     "traceback": [
      "\u001b[31m---------------------------------------------------------------------------\u001b[39m",
      "\u001b[31mValueError\u001b[39m                                Traceback (most recent call last)",
      "\u001b[36mCell\u001b[39m\u001b[36m \u001b[39m\u001b[32mIn[1]\u001b[39m\u001b[32m, line 1\u001b[39m\n\u001b[32m----> \u001b[39m\u001b[32m1\u001b[39m leeftijd_jaren = \u001b[38;5;28;43mint\u001b[39;49m\u001b[43m(\u001b[49m\u001b[38;5;28;43minput\u001b[39;49m\u001b[43m(\u001b[49m\u001b[33;43m\"\u001b[39;49m\u001b[33;43mGeef je leeftijd in jaren: \u001b[39;49m\u001b[33;43m\"\u001b[39;49m\u001b[43m)\u001b[49m\u001b[43m)\u001b[49m \n\u001b[32m      2\u001b[39m leeftijd_dagen = leeftijd_jaren * \u001b[32m365\u001b[39m \n\u001b[32m      3\u001b[39m \u001b[38;5;28mprint\u001b[39m(\u001b[33m\"\u001b[39m\u001b[33mJe leeftijd in dagen is:\u001b[39m\u001b[33m\"\u001b[39m, leeftijd_dagen) \n",
      "\u001b[31mValueError\u001b[39m: invalid literal for int() with base 10: ''"
     ]
    }
   ],
   "source": [
    "leeftijd_jaren = int(input(\"Geef je leeftijd in jaren: \")) \n",
    "leeftijd_dagen = leeftijd_jaren * 365 \n",
    "print(\"Je leeftijd in dagen is:\", leeftijd_dagen) "
   ]
  },
  {
   "cell_type": "markdown",
   "id": "4e1ff265",
   "metadata": {},
   "source": [
    "### Probleem B \n",
    "In het huiswerk moest je proberen om zelf uit te zoeken hoe je math.pi gebruikt. Is het je gelukt? \n",
    "- Wat was je strategie om dit te vinden? \n",
    "- Waar heb je gezocht? \n",
    " \n",
    ":::{admonition} Hoe werkt import in Python? \n",
    "Om extra functies te gebruiken die standaard niet beschikbaar zijn, gebruik je import. \n",
    ":::"
   ]
  },
  {
   "cell_type": "code",
   "execution_count": null,
   "id": "eecb49b5",
   "metadata": {},
   "outputs": [],
   "source": [
    "import math \n",
    "print(math.pi) "
   ]
  },
  {
   "cell_type": "markdown",
   "id": "3ec4367f",
   "metadata": {},
   "source": [
    " \n",
    "Met import math krijg je toegang tot extra wiskundige functies en constanten, zoals π (pi). "
   ]
  },
  {
   "cell_type": "markdown",
   "id": "db5db0a8",
   "metadata": {},
   "source": [
    "\n",
    " \n",
    "## Deel 2: Variabelen en Gegevenstypes \n",
    "### Wat is een variabele? \n",
    "- Een variabele is een plek in het geheugen waarin je data kan bewaren en aanpassen. \n",
    "- Bijvoorbeeld: `x = 5` \n",
    " \n",
    "### Gegevenstypes in Python \n",
    "\n",
    "```{list-table}\n",
    ":header-rows: 1\n",
    "\n",
    "* - Type \t\n",
    "  - Omschrijving \t\n",
    "  - Voorbeeld \n",
    "* - int\n",
    "  - Gehele getallen (integers) \t\n",
    "  - 7, -3, 0 \n",
    "* - float \t\n",
    "  - Kommagetallen (floating-point) \t\n",
    "  - 3.14, -0.5, 2.0 \n",
    "* - str \t\n",
    "  - Tekst (strings) \t\n",
    "  - \"Hallo\", \"5\", \" \" \n",
    "```\n",
    " \n",
    "### Type bepalen en omzetten (casting) \n",
    "Je kan het gegevenstype van een variabele omzetten: \n"
   ]
  },
  {
   "cell_type": "code",
   "execution_count": null,
   "id": "12383147",
   "metadata": {},
   "outputs": [],
   "source": [
    "a = \"5\"        # str \n",
    "b = int(a)     # omgezet naar int \n",
    "c = float(b)   # omgezet naar float \n",
    "print(type(a), type(b), type(c))"
   ]
  },
  {
   "cell_type": "markdown",
   "id": "ea337a2e",
   "metadata": {},
   "source": [
    "## Deel 3: Invoer en uitvoer in Python \n",
    "### Invoer (input) \n",
    "Gebruik `input()` om gegevens van de gebruiker te krijgen. Let op: invoer is altijd str! "
   ]
  },
  {
   "cell_type": "code",
   "execution_count": null,
   "id": "9d41d35c",
   "metadata": {},
   "outputs": [],
   "source": [
    "naam = input(\"Geef je naam: \") \n",
    "print(\"Welkom,\", naam) "
   ]
  },
  {
   "cell_type": "markdown",
   "id": "c2923aed",
   "metadata": {},
   "source": [
    "Wil je een getal invoeren? Vergeet niet om het om te zetten naar int of float: "
   ]
  },
  {
   "cell_type": "code",
   "execution_count": null,
   "id": "8f8ff876",
   "metadata": {},
   "outputs": [],
   "source": [
    "getal = int(input(\"Geef een geheel getal: \")) \n",
    "print(\"Het dubbele is\", getal * 2) "
   ]
  },
  {
   "cell_type": "markdown",
   "id": "9c25491a",
   "metadata": {},
   "source": [
    "### Uitvoer (print) \n",
    "Gebruik `print()` om informatie te tonen. "
   ]
  },
  {
   "cell_type": "code",
   "execution_count": null,
   "id": "259810d4",
   "metadata": {},
   "outputs": [],
   "source": [
    "a = 10 \n",
    "b = 3 \n",
    "print(\"De som is\", a + b)"
   ]
  },
  {
   "cell_type": "markdown",
   "id": "86a03b02",
   "metadata": {},
   "source": [
    "## Deel 4: Oefeningen \n",
    "Maak volgende oefeningen. Test steeds je programma! \n",
    " \n",
    "### Oefening 1 \n",
    "Bereken de Body Mass Index (BMI). Formule:\n",
    "\n",
    "$$\n",
    "BMI = \\frac{weight(kg)}{height(m)^2}\n",
    "$$\n",
    "\n",
    "- Vraag lengte (in meter) en gewicht (in kg) aan gebruiker. \n",
    "- Toon het resultaat. \n",
    " \n",
    "### Oefening 2: \n",
    "Vraag de temperatuur in °C en zet om naar °F. Formule: \n",
    " \n",
    "$$\n",
    "F = (C \\times \\frac{9}{5} + 32)\n",
    "$$\n",
    "\n",
    "Toon het resultaat. \n",
    " \n",
    "### Oefening 3 \n",
    "Vraag de lengte van een zijde van een gelijkzijdige driehoek. Bereken de oppervlakte en toon die op het scherm. \n",
    " \n",
    " \n",
    "## Deel 5: Huiswerk \n",
    "Maak volgende Python-programma's: \n",
    " \n",
    "### Probleem A: \n",
    "- Vraag naar twee getallen. \n",
    "- Bereken vervolgens het eerste getal gedeeld door het tweede. Toon de uitkomst. \n",
    " \n",
    "### Probleem B: \n",
    "- Vraag de straal van een bol. \n",
    "- Bereken het volume van de bol. \n",
    "- Toon het resultaat. \n",
    " \n",
    "### Probleem C (uitdaging): \n",
    "Vraag een bedrag in euro. Bereken hoeveel munten van 2 euro, 1 euro, 0.5 euro en 0.1 euro nodig zijn om exact dat bedrag te betalen, met zo weinig mogelijk munten. Gebruik eenvoudige wiskundige berekeningen. Toon het resultaat netjes op het scherm. \n",
    " \n",
    ":::{tip} \n",
    "Bij het uitwerken van de laatste oefening kan je de een gehele deling en de rest van die deling gebruiken. De notatie die je nodig hebt om dat te doen vind je eenvoudig online. \n",
    ":::"
   ]
  }
 ],
 "metadata": {
  "kernelspec": {
   "display_name": ".venv",
   "language": "python",
   "name": "python3"
  },
  "language_info": {
   "codemirror_mode": {
    "name": "ipython",
    "version": 3
   },
   "file_extension": ".py",
   "mimetype": "text/x-python",
   "name": "python",
   "nbconvert_exporter": "python",
   "pygments_lexer": "ipython3",
   "version": "3.12.1"
  }
 },
 "nbformat": 4,
 "nbformat_minor": 5
}
