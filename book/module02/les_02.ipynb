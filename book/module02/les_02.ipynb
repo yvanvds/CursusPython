{
 "cells": [
  {
   "cell_type": "markdown",
   "id": "a261fd10",
   "metadata": {},
   "source": [
    "# Werken met lijsten, indexen en herhalingen\n",
    "\n",
    ":::{note}\n",
    "Lesdoelen\n",
    "Deze les helpt je om de basis goed onder de knie te krijgen voor we echte algoritmen gaan schrijven.\n",
    "Je leert hoe je met lijsten werkt, hoe je door hun elementen loopt, en hoe je met condities en indices controle krijgt over wat er precies gebeurt.\n",
    ":::\n",
    "\n",
    "## 📌 Deel 1: Lijsten en hun indexen\n",
    "\n",
    "Een lijst (of array) is een verzameling waarden die je in één variabele kunt bewaren."
   ]
  },
  {
   "cell_type": "code",
   "execution_count": 1,
   "id": "06d5e79a",
   "metadata": {},
   "outputs": [],
   "source": [
    "getallen = [4, 7, 2, 9]"
   ]
  },
  {
   "cell_type": "markdown",
   "id": "d456b1ee",
   "metadata": {},
   "source": [
    "Elk element in een lijst heeft een index.\n",
    "In Python begint tellen bij 0:\n",
    "\n",
    "```{list-table} Indexen en Waarden\n",
    ":header-rows: 1\n",
    ":label: table1\n",
    "\n",
    "* - Index\n",
    "  - Waarde\n",
    "* - 0\n",
    "  - 4\n",
    "* - 1\n",
    "  - 7\n",
    "* - 2\n",
    "  - 2\n",
    "* - 3\n",
    "  - 9  \n",
    "```\n",
    "\n",
    "Je spreekt een element aan met lijstnaam[index].\n"
   ]
  },
  {
   "cell_type": "code",
   "execution_count": null,
   "id": "1cf29c61",
   "metadata": {},
   "outputs": [],
   "source": [
    "getallen = [4, 7, 2, 9]\n",
    "\n",
    "print(getallen[0])   # toont 4\n",
    "print(getallen[3])   # toont 9\n",
    "\n",
    "# Je kunt ook een element wijzigen:\n",
    "getallen[2] = 10\n",
    "print(getallen)  # [4, 7, 10, 9]"
   ]
  },
  {
   "cell_type": "markdown",
   "id": "cc575fc9",
   "metadata": {},
   "source": [
    "### 📝 Oefeningen\n",
    "\n",
    "#### 1. Dubbele waarden\n",
    "* Maak een lijst van 5 getallen. \n",
    "* Gebruik indices om elk element te verdubbelen en toon daarna de nieuwe lijst.\n",
    "\n",
    "#### 2. Wisselen met index\n",
    "* Maak een lijst met 4 woorden.\n",
    "* Verwissel het tweede en vierde woord door hun index te gebruiken.\n",
    "\n",
    "#### 3. Maximum-element\n",
    "* Maak een lijst met 6 getallen.\n",
    "* Gebruik een variabele max en een for-lus om de grootste waarde te vinden.\n",
    "\n",
    "#### 4. Fibonacci reeks\n",
    "* Elk getal in een fibonacci reeks is de som van de twee vorige getallen. Vervang de vraagtekens door code die de reeks verder aanvult.\n"
   ]
  },
  {
   "cell_type": "code",
   "execution_count": null,
   "id": "dd6e3c96",
   "metadata": {},
   "outputs": [],
   "source": [
    "Fib = [0, 1]\n",
    "for i in range(10):\n",
    "    Fib.append(? + ?)\n",
    "print(Fib)"
   ]
  },
  {
   "cell_type": "markdown",
   "id": "af3ffc6e",
   "metadata": {},
   "source": [
    "## 📌 Deel 2: Lussen met range()\n",
    "Met for ... in ... kun je over lijsten lopen.\n",
    "Er zijn twee manieren:\n",
    "\n",
    "1. Rechtstreeks over de waarden"
   ]
  },
  {
   "cell_type": "code",
   "execution_count": null,
   "id": "111bbb25",
   "metadata": {},
   "outputs": [],
   "source": [
    "for getal in getallen:\n",
    "    print(getal)"
   ]
  },
  {
   "cell_type": "markdown",
   "id": "9df1d848",
   "metadata": {},
   "source": [
    "2. Via de index"
   ]
  },
  {
   "cell_type": "code",
   "execution_count": null,
   "id": "a2858a09",
   "metadata": {},
   "outputs": [],
   "source": [
    "for i in range(len(getallen)):\n",
    "    print(\"Index\", i, \":\", getallen[i])"
   ]
  },
  {
   "cell_type": "markdown",
   "id": "98677ce0",
   "metadata": {},
   "source": [
    "De tweede manier is handig wanneer je de positie nodig hebt (bijv. om iets te wijzigen).\n",
    "\n",
    "Je kan ook de meer complexe versie van range gebruiken. Daarin geef je de start, het einde en de stapgrootte mee aan range:"
   ]
  },
  {
   "cell_type": "code",
   "execution_count": null,
   "id": "f41f31f0",
   "metadata": {},
   "outputs": [],
   "source": [
    "for i in range(2, len(getallen), 1):\n",
    "    print(i, \":\", getallen[i])"
   ]
  },
  {
   "cell_type": "markdown",
   "id": "75856d43",
   "metadata": {},
   "source": [
    "\n",
    "### 📝 Oefeningen\n",
    "\n",
    "#### 1. Som van oneven indexen\n",
    "* Maak een lijst van 10 getallen via numpy:\n",
    "* Bereken de som van de elementen op oneven indexen (index 1, 3, 5, …).\n",
    "* Toon de som."
   ]
  },
  {
   "cell_type": "code",
   "execution_count": null,
   "id": "501591b6",
   "metadata": {},
   "outputs": [],
   "source": [
    "import numpy as np\n",
    "getallen = np.arange(10)"
   ]
  },
  {
   "cell_type": "markdown",
   "id": "1790f2ff",
   "metadata": {},
   "source": [
    "#### 2. Nieuwe lijst maken\n",
    "\n",
    "* Gebruik een for-lus met range() om een nieuwe lijst te maken waarin elk getal verdubbeld is.\n",
    "\n",
    "#### 3. Omgekeerde volgorde\n",
    "\n",
    "* Toon de elementen van de lijst in omgekeerde volgorde.\n",
    "\n",
    "#### 4. Som van twee getallen\n",
    "\n",
    "* Doorloop de lijst en toon telkens de som van het huidige en het volgende getal."
   ]
  },
  {
   "cell_type": "markdown",
   "id": "1dbb2ea0",
   "metadata": {},
   "source": [
    "\n",
    "## 📌 Deel 3: Condities combineren\n",
    "\n",
    "Met if, elif en else kun je kiezen wat er gebeurt."
   ]
  },
  {
   "cell_type": "code",
   "execution_count": null,
   "id": "3b865df6",
   "metadata": {},
   "outputs": [],
   "source": [
    "if x > 5:\n",
    "    print(\"groter dan 5\")\n",
    "elif x == 5:\n",
    "    print(\"gelijk aan 5\")\n",
    "else:\n",
    "    print(\"kleiner dan 5\")"
   ]
  },
  {
   "cell_type": "markdown",
   "id": "5e393044",
   "metadata": {},
   "source": [
    "\n",
    "Je kan ook meerdere voorwaarden combineren:\n",
    "\n",
    "| Operator \t| Betekenis \t| Voorbeeld            \t|\n",
    "|----------\t|-----------\t|----------------------\t|\n",
    "| and      \t| én        \t| if x > 5 and x < 10: \t|\n",
    "| or       \t| of        \t| if x < 0 or x > 100: \t|\n",
    "| not      \t| niet      \t| while not found:     \t|\n",
    "\n"
   ]
  },
  {
   "cell_type": "markdown",
   "id": "271b80e5",
   "metadata": {},
   "source": [
    "\n",
    "### 📝 Oefeningen\n",
    "\n",
    "#### 1. Filteren\n",
    "\n",
    "* Maak een lijst met getallen van -5 tot 20.\n",
    "\n",
    "`getallen = np.random.randint(-5, 20, 10)`\n",
    "\n",
    "* Toon enkel de getallen die groter zijn dan 10 én even.\n",
    "\n",
    ":::{hint}\n",
    "(💡 Gebruik `getal % 2 == 0` om te testen of iets even is.)\n",
    ":::\n",
    "\n",
    "#### 2. Selectie van namen\n",
    "\n",
    "* Maak een lijst met namen.\n",
    "* Toon enkel de namen die met een klinker beginnen of langer zijn dan 5 letters.\n",
    "\n",
    ":::{hint}\n",
    "💡 Gebruik naam[0] in \"AEIOUaeiou\".\n",
    ":::\n",
    "\n",
    "#### 3. Temperatuurlijst\n",
    "* Maak een lijst met temperaturen in °C:"
   ]
  },
  {
   "cell_type": "code",
   "execution_count": null,
   "id": "fba92711",
   "metadata": {},
   "outputs": [],
   "source": [
    "temperaturen = np.random.randint(-15, 40, 100)"
   ]
  },
  {
   "cell_type": "markdown",
   "id": "c62dbe8e",
   "metadata": {},
   "source": [
    "\n",
    "* Toon enkel de waarden die boven het vriespunt liggen én onder 30°C.\n",
    "* Toon daarnaast een teller voor het aantal dagen dat aan die voorwaarde voldoet.\n",
    "* Doorloop de lijst opnieuw en tel nu hoe vaak de outliers voorkomen (beneden het vriespunt en meer dan 30 gaden).\n",
    "\n",
    "#### 4. Scorecategorieën\n",
    "* Maak een lijst met scores tussen 0 en 100.\n",
    "* Tel voor elk van deze categorieën hoe vaak die voorkomt:\n",
    "    - \"geslaagd\" als score ≥ 50\n",
    "    - \"onderscheiding\" als score ≥ 75\n",
    "    - \"grootste onderscheiding\" als score ≥ 90\n",
    "    - \"onvoldoende\" anders\n",
    "    \n",
    "Gebruik if–elif–else.\n"
   ]
  },
  {
   "cell_type": "markdown",
   "id": "6f43b8bd",
   "metadata": {},
   "source": [
    "## 📌 Deel 4: Geneste lussen\n",
    "\n",
    "Een geneste lus betekent: een lus binnen een andere lus.\n",
    "Dat is nuttig als je elk element met elk ander wilt vergelijken."
   ]
  },
  {
   "cell_type": "code",
   "execution_count": null,
   "id": "5a9a13b5",
   "metadata": {},
   "outputs": [],
   "source": [
    "lijst = [3, 7, 1]\n",
    "for i in range(len(lijst)):\n",
    "    for j in range(len(lijst)):\n",
    "        print(lijst[i], lijst[j])"
   ]
  },
  {
   "cell_type": "markdown",
   "id": "dc5db878",
   "metadata": {},
   "source": [
    "\n",
    "Hierdoor worden alle mogelijke paren getoond.\n",
    "Bijv. (3,3), (3,7), (3,1), (7,3), ...\n"
   ]
  },
  {
   "cell_type": "markdown",
   "id": "87b9c34a",
   "metadata": {},
   "source": [
    "### 📝 Oefeningen\n",
    "\n",
    "#### 1. Som deelbaar door 3\n",
    "* Maak een lijst met 10 willekeurige getallen.\n",
    "* Toon alle paren waarvan de som deelbaar is door 3.\n",
    "* Gebruik een geneste lus.\n",
    "\n",
    "#### 2. Dubbele waarden\n",
    "* Maak een lijst met getallen.\n",
    "* Toon alle paren (a, b) waarvoor a gelijk is aan b.\n",
    "* Gebruik for i in range(len(lijst)) en een geneste lus.\n",
    "\n",
    "#### 3. Vermenigvuldigingstabel\n",
    "* Toon met twee geneste lussen de tafels van vermenigvuldiging van 1 tot 10, netjes geformatteerd.\n",
    "\n",
    "#### 4. Gelijke sommen\n",
    "* Geef twee lijsten van getallen.\n",
    "* Zoek alle combinaties (x, y) waarbij x uit de eerste lijst en y uit de tweede komt, en waarbij x + y == 10."
   ]
  },
  {
   "cell_type": "markdown",
   "id": "8ac86b2d",
   "metadata": {},
   "source": [
    "## 📌 Deel 5: Wisselen van elementen\n",
    "Soms wil je twee elementen van plaats verwisselen.\n",
    "\n",
    "Dat kan niet met "
   ]
  },
  {
   "cell_type": "code",
   "execution_count": null,
   "id": "8427be5c",
   "metadata": {},
   "outputs": [],
   "source": [
    "a = 1\n",
    "b = 2\n",
    "a = b\n",
    "b = a"
   ]
  },
  {
   "cell_type": "markdown",
   "id": "ad029712",
   "metadata": {},
   "source": [
    "want dan verlies je de oorspronkelijke waarde van a.\n",
    "\n",
    "De juiste manier:"
   ]
  },
  {
   "cell_type": "code",
   "execution_count": null,
   "id": "d345f639",
   "metadata": {},
   "outputs": [],
   "source": [
    "temp = a\n",
    "a = b\n",
    "b = temp"
   ]
  },
  {
   "cell_type": "markdown",
   "id": "5a03349f",
   "metadata": {},
   "source": [
    "of korter (maar in de meeste programmeertalen werkt dit niet):"
   ]
  },
  {
   "cell_type": "code",
   "execution_count": null,
   "id": "80520370",
   "metadata": {},
   "outputs": [],
   "source": [
    "a, b = b, a"
   ]
  },
  {
   "cell_type": "markdown",
   "id": "5aeb1494",
   "metadata": {},
   "source": [
    "Om in een lijst te wisselen:"
   ]
  },
  {
   "cell_type": "code",
   "execution_count": null,
   "id": "0c5f7d8b",
   "metadata": {},
   "outputs": [],
   "source": [
    "getallen = [3, 8, 5]\n",
    "i = 0\n",
    "j = 2\n",
    "getallen[i], getallen[j] = getallen[j], getallen[i]\n",
    "print(getallen)  # [5, 8, 3]"
   ]
  },
  {
   "cell_type": "markdown",
   "id": "7d1ecd46",
   "metadata": {},
   "source": [
    "### 📝 Oefeningen\n",
    "\n",
    "#### 1. Eerste en laatste\n",
    "* Schrijf een programma dat het eerste en laatste element van een lijst verwisselt.\n",
    "\n",
    "#### 2. Minimum naar voren\n",
    "* Zoek de kleinste waarde in de lijst en wissel die met het eerste element.\n",
    "* Gebruik for en if.\n",
    "\n",
    "#### 3. Elementen sorteren (mini-versie)\n",
    "* Maak een lijst met 10 willekeurige getallen.\n",
    "* Gebruik een dubbele lus: telkens als twee opeenvolgende elementen fout staan (links > rechts), wissel ze.\n",
    "* Herhaal dit tot de lijst volledig gesorteerd is.\n"
   ]
  },
  {
   "cell_type": "markdown",
   "id": "f4b029fa",
   "metadata": {},
   "source": [
    "## 🎯 Samenvatting\n",
    "\n",
    "| Vaardigheid | Belangrijkste code |\n",
    "| --- | --- |\n",
    "| Lijst maken | lijst = [4, 7, 2] |\n",
    "| Element tonen\t| print(lijst[i]) |\n",
    "| Element wijzigen | lijst[i] = nieuw_getal |\n",
    "| Door indexen lopen | for i in range(len(lijst)): |\n",
    "| Condities combineren | if x > 5 and x < 10: | \n",
    "| Geneste lussen | for i in range(...): for j in range(...): |\n",
    "| Wisselen | a, b = b, a |\n"
   ]
  }
 ],
 "metadata": {
  "kernelspec": {
   "display_name": ".venv",
   "language": "python",
   "name": "python3"
  },
  "language_info": {
   "codemirror_mode": {
    "name": "ipython",
    "version": 3
   },
   "file_extension": ".py",
   "mimetype": "text/x-python",
   "name": "python",
   "nbconvert_exporter": "python",
   "pygments_lexer": "ipython3",
   "version": "3.12.1"
  }
 },
 "nbformat": 4,
 "nbformat_minor": 5
}
