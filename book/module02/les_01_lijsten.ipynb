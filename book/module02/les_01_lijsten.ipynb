{
 "cells": [
  {
   "cell_type": "markdown",
   "id": "4d9f4ad8",
   "metadata": {},
   "source": [
    "# Lijsten, Tupples en Arrays\n",
    "\n",
    "## 1. Lijsten\n",
    "### Wat is een lijst?\n",
    "Een lijst (list) is een verzameling waarden die je onder één naam kan opslaan. In plaats van tien aparte variabelen (p1, p2, p3, …) kan je al die waarden samen in een lijst bewaren."
   ]
  },
  {
   "cell_type": "code",
   "execution_count": null,
   "id": "7e74bb6e",
   "metadata": {
    "tags": [
     "thebe-init"
    ]
   },
   "outputs": [],
   "source": [
    "# Lijst met rondetijden in seconden\n",
    "tijden = [62, 59, 64, 61, 60]\n",
    "print(tijden)"
   ]
  },
  {
   "cell_type": "markdown",
   "id": "9d4229bb",
   "metadata": {},
   "source": [
    "### Elementen opvragen en aanpassen\n",
    "Een lijst bestaat uit elementen die je via een index kan opvragen. Je kan via die index ook een waarde aanpassen.\n",
    "\n",
    ":::{attention}\n",
    "In Python begint tellen altijd bij 0.\n",
    ":::"
   ]
  },
  {
   "cell_type": "code",
   "execution_count": null,
   "id": "bbdb059b",
   "metadata": {},
   "outputs": [],
   "source": [
    "print(tijden[0])   # eerste element → 62\n",
    "print(tijden[1])   # tweede element → 59\n",
    "print(tijden[-1])  # laatste element → 60\n",
    "tijden[0] = 100\n",
    "print(tijden[0] # eerste element is nu 100"
   ]
  },
  {
   "cell_type": "markdown",
   "id": "028ed560",
   "metadata": {},
   "source": [
    "### Lijsten doorlopen\n",
    "Met een for-lus kan je gemakkelijk alle elementen in een lijst gebruiken."
   ]
  },
  {
   "cell_type": "code",
   "execution_count": null,
   "id": "1b175401",
   "metadata": {},
   "outputs": [],
   "source": [
    "for t in tijden:\n",
    "    print(\"Ronde:\", t, \"seconden\")"
   ]
  },
  {
   "cell_type": "markdown",
   "id": "b7f0d361",
   "metadata": {},
   "source": [
    "### Handige functies\n",
    "- `len(lijst)` aantal elementen\n",
    "- `min(lijst)` kleinste waarde\n",
    "- `max(lijst)` grootste waarde\n",
    "- `sum(lijst)` som van alle waarden"
   ]
  },
  {
   "cell_type": "code",
   "execution_count": null,
   "id": "0eb420d4",
   "metadata": {},
   "outputs": [],
   "source": [
    "print(\"Aantal rondes:\", len(tijden))\n",
    "print(\"Snelste ronde:\", min(tijden))\n",
    "print(\"Gemiddelde:\", sum(tijden)/len(tijden))"
   ]
  },
  {
   "cell_type": "markdown",
   "id": "32d00016",
   "metadata": {},
   "source": [
    "### Elementen toevoegen of verwijderen\n",
    "- `append()` voegt een element toe achteraan\n",
    "- `remove()` verwijdert het eerste element dat gelijk is aan de opgegeven waarde"
   ]
  },
  {
   "cell_type": "code",
   "execution_count": null,
   "id": "34064d46",
   "metadata": {},
   "outputs": [],
   "source": [
    "tijden.append(63)         # voeg 63 toe\n",
    "tijden.remove(59)         # verwijder het getal 59\n",
    "print(tijden)"
   ]
  },
  {
   "cell_type": "markdown",
   "id": "e001f9a1",
   "metadata": {},
   "source": [
    "### Voorbeeld\n",
    "Maak een lijst met de namen van drie klasgenoten.\n",
    "- Druk ze één voor één af op het scherm.\n",
    "- Voeg daarna je eigen naam toe aan de lijst.\n",
    "- Druk de nieuwe lijst af.\n",
    "\n",
    ":::{dropdown} Oplossing\n",
    "```python\n",
    "namen = [\"Jan\", \"Piet\", \"Klaas\", \"Marie\"]\n",
    "print(namen)\n",
    "namen.append(\"Arya\")\n",
    "print(namen)\n",
    "```\n",
    ":::"
   ]
  },
  {
   "cell_type": "markdown",
   "id": "62dbfb28",
   "metadata": {},
   "source": [
    "\n",
    "\n",
    "### Oefeningen\n",
    "#### Oefening 1 – Temperatuurmetingen\n",
    "Vraag 5 temperaturen in (in °C) en bewaar ze in een lijst.\n",
    "- Bereken en toon het gemiddelde.\n",
    "- Toon de hoogste en laagste waarde.\n",
    "\n",
    "#### Oefening 2 – Vectorlengte\n",
    "Maak een lijst die de coördinaten van een vector voorstelt, bv. [3, 4].\n",
    "- Bereken de lengte van de vector met de formule:\n",
    "    $\\sqrt{x^2+y^2]$\n",
    "- Toon het resultaat.\n",
    "\n",
    "#### Oefening 3 – Sportieve rondetijden\n",
    "Vraag 6 rondetijden (in seconden) aan de gebruiker en bewaar ze in een lijst.\n",
    "- Druk de gemiddelde tijd af.\n",
    "- Toon de snelste ronde.\n",
    "\n",
    "#### Uitdaging – Dobbelsteen-simulatie\n",
    "Gooi 20 keer een dobbelsteen en bewaar de waarden in een lijst.\n",
    "- Druk de lijst af.\n",
    "- Tel hoeveel keer elk cijfer (1 t.e.m. 6) voorkomt.\n",
    "- Druk dat ook af.\n",
    "\n",
    ":::{tip}\n",
    "Gebruik import random en random.randint(1,6)\n",
    ":::"
   ]
  },
  {
   "cell_type": "markdown",
   "id": "ae7fecc1",
   "metadata": {},
   "source": [
    "## 2: Tuples\n",
    "### Wat is een tuple?\n",
    "Een tuple lijkt sterk op een lijst, maar heeft één belangrijk verschil:\n",
    "\n",
    "- Een lijst kan je veranderen (elementen toevoegen, verwijderen, aanpassen).\n",
    "- Een tuple is onveranderlijk (immutable).\n",
    "\n",
    "Je kan een tuple dus zien als een lijst waarvan de inhoud vastligt."
   ]
  },
  {
   "cell_type": "code",
   "execution_count": null,
   "id": "129e1070",
   "metadata": {},
   "outputs": [],
   "source": [
    "coordinaten = (3, 4)\n",
    "rgb_kleur = (255, 200, 120)\n",
    "\n",
    "print(coordinaten)\n",
    "print(rgb_kleur)"
   ]
  },
  {
   "cell_type": "markdown",
   "id": "6ab0d71d",
   "metadata": {},
   "source": [
    "### Elementen opvragen\n",
    "Net zoals bij een lijst gebruik je een index om de elementen van een tuple op te vragen."
   ]
  },
  {
   "cell_type": "code",
   "execution_count": null,
   "id": "2cd1fc4d",
   "metadata": {},
   "outputs": [],
   "source": [
    "print(coordinaten[0])   # eerste element → 3\n",
    "print(coordinaten[1])   # tweede element → 4"
   ]
  },
  {
   "cell_type": "markdown",
   "id": "4f1c6af7",
   "metadata": {},
   "source": [
    "Probeer eens: coordinaten[0] = 5 → je krijgt een foutmelding, want een tuple kan je niet aanpassen.\n",
    "\n",
    "### Wanneer gebruik je een tuple?\n",
    "- Als je wil dat gegevens niet per ongeluk veranderen.\n",
    "- Voorbeelden:\n",
    "        ○ Coördinaten (x, y)\n",
    "        ○ RGB-kleurwaarden\n",
    "\n",
    ":::{note}\n",
    "In deze cursus heb je geen tuple nodig. We vermelden dit concept omdat je ze niet zou verwarren met een lijst. Wanneer je per vergissing een lijst maakt met ronde haakjes, dan krijg je geen lijst maar een tuple. En die kan je dus niet aanpassen.\n",
    ":::\n",
    "\n",
    "## 3. NumPy Arrays\n",
    "### Wat is NumPy?\n",
    "Python is krachtig, maar standaard niet zo efficiënt voor grote wiskundige berekeningen.\n",
    "\n",
    "NumPy (Numerical Python) is een bibliotheek die dit oplost.\n",
    "- NumPy maakt gebruik van arrays: een soort super-lijsten die sneller zijn en veel extra mogelijkheden hebben.\n",
    "- In deze les gebruiken we NumPy om reeksen getallen te maken en er wiskundige berekeningen op uit te voeren.\n",
    "\n",
    "### Installatie van NumPy\n",
    "NumPy is een externe bibliotheek. Je moet die eerst installeren met het programma pip (de pakketbeheerder van Python).\n",
    "1. Open de terminal in VS Code (menu View > Terminal).\n",
    "2. Typ het commando:"
   ]
  },
  {
   "cell_type": "code",
   "execution_count": null,
   "id": "048665c1",
   "metadata": {
    "vscode": {
     "languageId": "powershell"
    }
   },
   "outputs": [],
   "source": [
    "pip install numpy"
   ]
  },
  {
   "cell_type": "markdown",
   "id": "342df4f2",
   "metadata": {},
   "source": [
    "3. Druk op Enter. Wacht tot de installatie klaar is.\n",
    "\n",
    "Je hoeft dit maar één keer te doen. Daarna kan je NumPy gebruiken via:"
   ]
  },
  {
   "cell_type": "code",
   "execution_count": null,
   "id": "5e73d5ff",
   "metadata": {},
   "outputs": [],
   "source": [
    "import numpy as np"
   ]
  },
  {
   "cell_type": "markdown",
   "id": "ca1ca9de",
   "metadata": {},
   "source": [
    "### Een eerste NumPy-array\n",
    "Maak een array met enkele getallen:"
   ]
  },
  {
   "cell_type": "code",
   "execution_count": null,
   "id": "b730e18b",
   "metadata": {},
   "outputs": [],
   "source": [
    "import numpy as np\n",
    "a = np.array([1, 2, 3, 4])\n",
    "print(a)"
   ]
  },
  {
   "cell_type": "markdown",
   "id": "606bf246",
   "metadata": {},
   "source": [
    "\n",
    "### Rekenwerk met arrays\n",
    "Een NumPy-array is krachtiger dan een gewone lijst: bewerkingen gebeuren in één keer op alle elementen."
   ]
  },
  {
   "cell_type": "code",
   "execution_count": null,
   "id": "7fb42bec",
   "metadata": {},
   "outputs": [],
   "source": [
    "print(a * 2)       # [2 4 6 8]\n",
    "print(a ** 2)      # [ 1  4  9 16]\n",
    "print(np.mean(a))  # gemiddelde: 2.5"
   ]
  },
  {
   "cell_type": "markdown",
   "id": "313c87c1",
   "metadata": {},
   "source": [
    "### Reeksen getallen maken\n",
    "NumPy kan zelf reeksen getallen genereren.\n",
    "- `np.arange(start, stop, stap)` zoals range() maar als array.\n",
    "- `np.linspace(start, stop, aantal)` verdeelt een interval in een vast aantal waarden.\n",
    "\n",
    "Voorbeeld:"
   ]
  },
  {
   "cell_type": "code",
   "execution_count": null,
   "id": "b2d69242",
   "metadata": {},
   "outputs": [],
   "source": [
    "x = np.linspace(0, 10, 5)\n",
    "print(x)"
   ]
  },
  {
   "cell_type": "markdown",
   "id": "4f71ca4d",
   "metadata": {},
   "source": [
    "\n",
    "### Wiskundige functies\n",
    "NumPy bevat dezelfde functies als math, maar ze werken in één keer op een hele array."
   ]
  },
  {
   "cell_type": "code",
   "execution_count": null,
   "id": "69dad32b",
   "metadata": {},
   "outputs": [],
   "source": [
    "graden = np.linspace(0, 180, 7)\n",
    "sinuswaarden = np.sin(np.radians(graden))\n",
    "print(\"Graden:\", graden)\n",
    "print(\"Sinus:\", sinuswaarden)"
   ]
  },
  {
   "cell_type": "markdown",
   "id": "4fc28f20",
   "metadata": {},
   "source": [
    "### Voorbeeld\n",
    "Maak een array met de getallen 1 t.e.m. 100.\n",
    "- Bereken het gemiddelde, de grootste en de kleinste waarde.\n",
    "- Druk de resultaten af."
   ]
  },
  {
   "cell_type": "code",
   "execution_count": null,
   "id": "3330c8fa",
   "metadata": {},
   "outputs": [],
   "source": [
    "import numpy as np\n",
    "\n",
    "array = np.arange(1, 101, 1)\n",
    "\n",
    "# Bereken het gemiddelde, de grootste en de kleinste waarde.\n",
    "gemiddelde = np.mean(array)\n",
    "grootste = np.max(array)\n",
    "kleinste = np.min(array)\n",
    "\n",
    "# Druk de resultaten af.\n",
    "print(f\"Gemiddelde: {gemiddelde}\")\n",
    "print(f\"Grootste waarde: {grootste}\")\n",
    "print(f\"Kleinste waarde: {kleinste}\")"
   ]
  },
  {
   "cell_type": "markdown",
   "id": "1ec34687",
   "metadata": {},
   "source": [
    "\n",
    "### Oefeningen\n",
    "#### Oefening 1 – Kwadraten\n",
    "Maak een array met de getallen van 1 t.e.m. 10.\n",
    "- Bereken en druk hun kwadraten af.\n",
    "\n",
    "#### Oefening 2 – Sinusfunctie\n",
    "Gebruik np.linspace(0, 180, 13) om een array met hoeken te maken (van 0 tot 180 in stappen van 15°).\n",
    "- Bereken hun sinuswaarden en druk beide arrays af.\n",
    "\n",
    "#### Oefening 3 – Gemiddelde snelheid\n",
    "Maak twee arrays:"
   ]
  },
  {
   "cell_type": "code",
   "execution_count": null,
   "id": "59e88b17",
   "metadata": {},
   "outputs": [],
   "source": [
    "afstanden = np.array([0, 100, 220, 360])   # in meter\n",
    "tijden = np.array([0, 10, 20, 30])         # in seconden"
   ]
  },
  {
   "cell_type": "markdown",
   "id": "912f2ad4",
   "metadata": {},
   "source": [
    "- Bereken de gemiddelde snelheid tussen elk meetpunt (afstandverschil / tijdsverschil).\n",
    "\n",
    "#### Oefening 4 – Even en oneven tellen\n",
    "- Maak een array met 200 willekeurige gehele getallen tussen 1 en 100.\n",
    "- Gebruik een for-lus + if om te tellen hoeveel even en hoeveel oneven getallen er in de array zitten.\n",
    "\n",
    "#### Oefening 5 – Groter dan gemiddelde\n",
    "- Maak een array met 120 willekeurige temperaturen tussen 15 °C en 30 °C.\n",
    "- Bereken het gemiddelde.\n",
    "- Gebruik een lus en conditie om te tellen hoeveel waarden boven het gemiddelde liggen.\n",
    "\n",
    "#### Oefening 6 – Minimum zoeken\n",
    "- Maak een array met 100 willekeurige getallen tussen 0 en 1.\n",
    "- Zoek de kleinste waarde met een for-lus en if, dus zonder min()\n",
    "\n",
    "#### Uitdaging A – Sensoranalyse\n",
    "- Genereer een array met 300 willekeurige temperatuurmetingen tussen 15° C en 30° C.\n",
    "- Bereken het gemiddelde en de standaardafwijking.\n",
    "- Tel hoeveel percent van de metingen boven de 25° C liggen.\n",
    "- Toon het resultaat.\n",
    "\n",
    "#### Uitdaging B – Demo\n",
    "Ga op zoek naar 2 coole dingen die je kan doen met numpy. Voorzie code om dat te doen. Je oefening is klaar waneer je alle code begrijpt en een korte demo kan geven voor de rest van de klas.\n"
   ]
  }
 ],
 "metadata": {
  "kernelspec": {
   "display_name": ".venv",
   "language": "python",
   "name": "python3"
  },
  "language_info": {
   "name": "python",
   "version": "3.12.1"
  }
 },
 "nbformat": 4,
 "nbformat_minor": 5
}
